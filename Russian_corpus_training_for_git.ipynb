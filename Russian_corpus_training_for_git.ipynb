{
 "cells": [
  {
   "cell_type": "markdown",
   "metadata": {},
   "source": [
    "# Code for exploring Russian gender roles in the Russian National Corpus"
   ]
  },
  {
   "cell_type": "code",
   "execution_count": 8,
   "metadata": {
    "scrolled": true
   },
   "outputs": [],
   "source": [
    "import re #importing for cleaning corpus\n",
    "import os #importing for working with directories\n",
    "import nltk #importing for corpus manipulations\n",
    "import string #importing for string manipulations in the corpus\n",
    "from bs4 import BeautifulSoup #importing for dealing with the HTML format of the corpus files\n",
    "from nltk.tokenize import sent_tokenize #importing for tokenizing sentences later on\n",
    "from nltk.corpus import stopwords #importing for later cleaning stopwords for more efficiency in word2vec training\n",
    "from pymystem3 import Mystem #a package for Russian lemmatisation\n",
    "\n",
    "punct = string.punctuation + '«» ' #adding space and russian quotation marks to the punctuation in string package to clean corpus"
   ]
  },
  {
   "cell_type": "markdown",
   "metadata": {},
   "source": [
    "# Part 1: Training whole corpus"
   ]
  },
  {
   "cell_type": "code",
   "execution_count": 314,
   "metadata": {},
   "outputs": [],
   "source": [
    "directory = #ask for permission to download the RNC \n",
    "\n",
    "rnc = [] #list of all text in the whole corpus\n",
    "for folder in os.listdir(directory): #looping over each folder in the corpus directory\n",
    "    if folder != \".DS_Store\": #except the invisible folder\n",
    "        for filename in os.listdir(os.path.join(directory, folder)): #looping over each file in the folder\n",
    "            if filename.endswith('.xhtml'): #only if it's in the xhtml format\n",
    "                with open(os.path.join(directory, folder, filename), encoding='windows-1251', mode='r') as f: #opening\n",
    "                    content = f.read() #reading\n",
    "                    soup = BeautifulSoup(content) #souping the content from html file\n",
    "                    data = soup.get_text() #getting the text data\n",
    "                    sent_text = \" \".join([x.replace(\"`\",\"\") for x in data.split(\"\\n\")]) #all sentences joined in a string after sentences are split by \\n and each word gets cleaned from the `\n",
    "                    rnc.append(sent_text) #appending the sentences of the files of the folder to the RNC list\n",
    "\n",
    "rnc_sent = \" \".join(rnc) #joining all the sentences from all the files from all the folders of the corpus"
   ]
  },
  {
   "cell_type": "code",
   "execution_count": 5,
   "metadata": {},
   "outputs": [
    {
     "data": {
      "text/plain": [
       "7706139"
      ]
     },
     "execution_count": 5,
     "metadata": {},
     "output_type": "execute_result"
    }
   ],
   "source": [
    "len(rnc_sent)"
   ]
  },
  {
   "cell_type": "code",
   "execution_count": 316,
   "metadata": {},
   "outputs": [],
   "source": [
    "#inspired by: https://www.kaggle.com/alxmamaev/how-to-easy-preprocess-russian-text \n",
    "\n",
    "#Create lemmatizer and stopwords list\n",
    "stem = Mystem() \n",
    "russian_stopwords = stopwords.words(\"russian\")\n",
    "\n",
    "def clean_lemm_text(corpus): #cleaning and lemmatising function\n",
    "    clean_text = [] #list that will be populated with the clean sentences\n",
    "    tok = [word.lower() for word in sent_tokenize(corpus)] #tokenise the sentences in the corpus and lower all words\n",
    "    tok = [stem.lemmatize(sentence) for sentence in tok] #lemmatise each sentence in the tokenised corpus\n",
    "    for sent in tok:\n",
    "        clean_sent = [x.strip(punct) for x in sent if re.match(r\"[а-я]\",x.strip(punct)) #take punctuation away and only take words\n",
    "                      and len(x.strip(punct))>2 #only token that is longer than 2\n",
    "                      and x.strip(punct) not in russian_stopwords #token is not a stopword\n",
    "                      and not re.match(r\".*(-то)\", x.strip(punct)) #taking some more words that are stopwords but that the stopword package doesn't catch\n",
    "                      and x.strip(punct) != \" \"] #token is not an empty space\n",
    "        clean_text.append(clean_sent) #append to the clean text list\n",
    "        \n",
    "    return clean_text #return the list with clean sentences"
   ]
  },
  {
   "cell_type": "code",
   "execution_count": 317,
   "metadata": {
    "scrolled": true
   },
   "outputs": [],
   "source": [
    "ready_rnc = clean_lemm_text(rnc_sent)"
   ]
  },
  {
   "cell_type": "code",
   "execution_count": 12,
   "metadata": {},
   "outputs": [
    {
     "data": {
      "text/plain": [
       "96037"
      ]
     },
     "execution_count": 12,
     "metadata": {},
     "output_type": "execute_result"
    }
   ],
   "source": [
    "len(ready_rnc) #number of sentences"
   ]
  },
  {
   "cell_type": "code",
   "execution_count": 14,
   "metadata": {},
   "outputs": [
    {
     "data": {
      "text/plain": [
       "652987"
      ]
     },
     "execution_count": 14,
     "metadata": {},
     "output_type": "execute_result"
    }
   ],
   "source": [
    "#calculating total number of words\n",
    "\n",
    "i = 0\n",
    "for item in ready_rnc:\n",
    "    for word in item:\n",
    "        i += 1\n",
    "\n",
    "i"
   ]
  },
  {
   "cell_type": "markdown",
   "metadata": {},
   "source": [
    "# Training the model and obtaining similarity scores"
   ]
  },
  {
   "cell_type": "code",
   "execution_count": 34,
   "metadata": {},
   "outputs": [],
   "source": [
    "import gensim #for training\n",
    "from gensim.models import Word2Vec #for the model\n",
    "from gensim.models import KeyedVectors #for later comparing similarities"
   ]
  },
  {
   "cell_type": "code",
   "execution_count": 52,
   "metadata": {},
   "outputs": [],
   "source": [
    "model = Word2Vec(sentences=ready_rnc, vector_size=200, window=30) #training model\n",
    "model.save(\"word2vec.model\") #saving the model\n",
    "model = Word2Vec.load(\"word2vec.model\") #loading the model"
   ]
  },
  {
   "cell_type": "code",
   "execution_count": 231,
   "metadata": {},
   "outputs": [],
   "source": [
    "male_attributes = [\"мальчик\", \"мужчина\", \"сын\", \"отец\", \"дедушка\", \"дядя\", \"брат\", \"папа\"]\n",
    "female_attributes = [\"женщина\", \"девочка\", \"сестра\", \"дочь\", \"мать\", \"мама\", \"тетя\", \"бабушка\"]"
   ]
  },
  {
   "cell_type": "code",
   "execution_count": 88,
   "metadata": {},
   "outputs": [],
   "source": [
    "career_targets = [\"работа\", \"профессионал\", \"управление\", \"сила\", \"зарплата\", \"офис\", \"бизнес\", \"карьера\"]\n",
    "family_targets = [\"дом\", \"родитель\", \"ребенок\", \"семья\", \"свадьба\", \"брак\", \"родственник\", \"убирать\"]"
   ]
  },
  {
   "cell_type": "code",
   "execution_count": 240,
   "metadata": {},
   "outputs": [],
   "source": [
    "def male_female_att_target(targets, mod):\n",
    "    \"\"\"Function that takes the target words and a model and returns a list of\n",
    "    pairwise similarities between each attribute word and each target word\"\"\"\n",
    "    sim_word_male = []\n",
    "    sim_word_female = []\n",
    "    for word in targets:\n",
    "        try:\n",
    "            for attribute in male_attributes:\n",
    "                sim_male = attribute + \" \" + word + \": \" + str(mod.wv.similarity(attribute, word))\n",
    "                sim_word_male.append(sim_male)\n",
    "            for attribute_f in female_attributes:\n",
    "                sim_female = attribute_f + \" \" + word + \": \" + str(mod.wv.similarity(attribute_f, word))\n",
    "                sim_word_female.append(sim_female)\n",
    "        except KeyError as e:\n",
    "            print(e)\n",
    "    \n",
    "    return sim_word_male, sim_word_female\n",
    "    \n",
    "  "
   ]
  },
  {
   "cell_type": "code",
   "execution_count": 241,
   "metadata": {
    "scrolled": true
   },
   "outputs": [
    {
     "data": {
      "text/plain": [
       "(['мальчик работа: 0.34076083',\n",
       "  'мужчина работа: 0.25905728',\n",
       "  'сын работа: 0.021256575',\n",
       "  'отец работа: 0.09984532',\n",
       "  'дедушка работа: 0.16657081',\n",
       "  'дядя работа: 0.39386773',\n",
       "  'брат работа: 0.3252747',\n",
       "  'папа работа: 0.26648343',\n",
       "  'мальчик профессионал: 0.91836226',\n",
       "  'мужчина профессионал: 0.8598057',\n",
       "  'сын профессионал: 0.7220744',\n",
       "  'отец профессионал: 0.777825',\n",
       "  'дедушка профессионал: 0.8476547',\n",
       "  'дядя профессионал: 0.9456586',\n",
       "  'брат профессионал: 0.91368634',\n",
       "  'папа профессионал: 0.8936032',\n",
       "  'мальчик управление: 0.4683205',\n",
       "  'мужчина управление: 0.3621707',\n",
       "  'сын управление: 0.13216874',\n",
       "  'отец управление: 0.22359382',\n",
       "  'дедушка управление: 0.30581433',\n",
       "  'дядя управление: 0.52606297',\n",
       "  'брат управление: 0.44368625',\n",
       "  'папа управление: 0.3964939',\n",
       "  'мальчик сила: 0.6899024',\n",
       "  'мужчина сила: 0.6270487',\n",
       "  'сын сила: 0.42129895',\n",
       "  'отец сила: 0.4939908',\n",
       "  'дедушка сила: 0.58378524',\n",
       "  'дядя сила: 0.74126756',\n",
       "  'брат сила: 0.70445913',\n",
       "  'папа сила: 0.64719415',\n",
       "  'мальчик зарплата: 0.82653075',\n",
       "  'мужчина зарплата: 0.7526554',\n",
       "  'сын зарплата: 0.59593153',\n",
       "  'отец зарплата: 0.65410686',\n",
       "  'дедушка зарплата: 0.71497405',\n",
       "  'дядя зарплата: 0.85475343',\n",
       "  'брат зарплата: 0.8169577',\n",
       "  'папа зарплата: 0.7807113',\n",
       "  'мальчик офис: 0.8688845',\n",
       "  'мужчина офис: 0.79207957',\n",
       "  'сын офис: 0.634357',\n",
       "  'отец офис: 0.70307326',\n",
       "  'дедушка офис: 0.7787188',\n",
       "  'дядя офис: 0.90453285',\n",
       "  'брат офис: 0.85865843',\n",
       "  'папа офис: 0.8331715',\n",
       "  'мальчик бизнес: 0.3036782',\n",
       "  'мужчина бизнес: 0.2346516',\n",
       "  'сын бизнес: -0.043350525',\n",
       "  'отец бизнес: 0.050638113',\n",
       "  'дедушка бизнес: 0.15353191',\n",
       "  'дядя бизнес: 0.3719784',\n",
       "  'брат бизнес: 0.28893808',\n",
       "  'папа бизнес: 0.24497472',\n",
       "  'мальчик карьера: 0.9446309',\n",
       "  'мужчина карьера: 0.8913732',\n",
       "  'сын карьера: 0.79345214',\n",
       "  'отец карьера: 0.8312982',\n",
       "  'дедушка карьера: 0.8846916',\n",
       "  'дядя карьера: 0.9608698',\n",
       "  'брат карьера: 0.95223135',\n",
       "  'папа карьера: 0.9222183'],\n",
       " ['женщина работа: -0.020755012',\n",
       "  'девочка работа: 0.38762212',\n",
       "  'сестра работа: 0.3605079',\n",
       "  'дочь работа: 0.16043451',\n",
       "  'мать работа: 0.015116682',\n",
       "  'мама работа: 0.057808835',\n",
       "  'тетя работа: 0.32063058',\n",
       "  'бабушка работа: 0.17514667',\n",
       "  'женщина профессионал: 0.6809417',\n",
       "  'девочка профессионал: 0.9267941',\n",
       "  'сестра профессионал: 0.9261048',\n",
       "  'дочь профессионал: 0.82096297',\n",
       "  'мать профессионал: 0.68370044',\n",
       "  'мама профессионал: 0.7736322',\n",
       "  'тетя профессионал: 0.91463816',\n",
       "  'бабушка профессионал: 0.84598905',\n",
       "  'женщина управление: 0.08243392',\n",
       "  'девочка управление: 0.50644094',\n",
       "  'сестра управление: 0.48256883',\n",
       "  'дочь управление: 0.28903288',\n",
       "  'мать управление: 0.13718607',\n",
       "  'мама управление: 0.18866137',\n",
       "  'тетя управление: 0.45189834',\n",
       "  'бабушка управление: 0.3051932',\n",
       "  'женщина сила: 0.3715573',\n",
       "  'девочка сила: 0.7096479',\n",
       "  'сестра сила: 0.7082567',\n",
       "  'дочь сила: 0.54589',\n",
       "  'мать сила: 0.38572133',\n",
       "  'мама сила: 0.48274794',\n",
       "  'тетя сила: 0.6875527',\n",
       "  'бабушка сила: 0.5870893',\n",
       "  'женщина зарплата: 0.54173267',\n",
       "  'девочка зарплата: 0.8546001',\n",
       "  'сестра зарплата: 0.8409905',\n",
       "  'дочь зарплата: 0.7058098',\n",
       "  'мать зарплата: 0.56073',\n",
       "  'мама зарплата: 0.6280165',\n",
       "  'тетя зарплата: 0.8159988',\n",
       "  'бабушка зарплата: 0.7221417',\n",
       "  'женщина офис: 0.5884212',\n",
       "  'девочка офис: 0.8801649',\n",
       "  'сестра офис: 0.8762982',\n",
       "  'дочь офис: 0.752241',\n",
       "  'мать офис: 0.60972875',\n",
       "  'мама офис: 0.69067067',\n",
       "  'тетя офис: 0.8635926',\n",
       "  'бабушка офис: 0.7768298',\n",
       "  'женщина бизнес: -0.06189719',\n",
       "  'девочка бизнес: 0.3389607',\n",
       "  'сестра бизнес: 0.32202655',\n",
       "  'дочь бизнес: 0.11286379',\n",
       "  'мать бизнес: -0.04684777',\n",
       "  'мама бизнес: 0.049403954',\n",
       "  'тетя бизнес: 0.28966457',\n",
       "  'бабушка бизнес: 0.14436463',\n",
       "  'женщина карьера: 0.7374042',\n",
       "  'девочка карьера: 0.95550823',\n",
       "  'сестра карьера: 0.9557683',\n",
       "  'дочь карьера: 0.8690813',\n",
       "  'мать карьера: 0.7415826',\n",
       "  'мама карьера: 0.8164746',\n",
       "  'тетя карьера: 0.94277877',\n",
       "  'бабушка карьера: 0.89085984'])"
      ]
     },
     "execution_count": 241,
     "metadata": {},
     "output_type": "execute_result"
    }
   ],
   "source": [
    "male_female_att_target(career_targets, model)"
   ]
  },
  {
   "cell_type": "code",
   "execution_count": 243,
   "metadata": {},
   "outputs": [],
   "source": [
    "def male_female_targets(targets, mod):\n",
    "    \"\"\"Function that takes a target list and a model and returns a list of two lists\n",
    "    with similarity scores between male attributes and targets, and female attributes and targets\"\"\"\n",
    "    sim_word_male = []\n",
    "    sim_word_female = []\n",
    "    for word in targets:\n",
    "        try:\n",
    "            for attribute in male_attributes:\n",
    "                sim_male = mod.wv.similarity(attribute, word)\n",
    "                sim_word_male.append(sim_male)\n",
    "            for attribute_f in female_attributes:\n",
    "                sim_female = mod.wv.similarity(attribute_f, word)\n",
    "                sim_word_female.append(sim_female)\n",
    "        except KeyError as e:\n",
    "            print(e)\n",
    "    \n",
    "    return sim_word_male, sim_word_female"
   ]
  },
  {
   "cell_type": "code",
   "execution_count": 244,
   "metadata": {
    "scrolled": true
   },
   "outputs": [],
   "source": [
    "career_sims = male_female_targets(career_targets, model)\n",
    "fam_sims = male_female_targets(family_targets, model)\n",
    "\n",
    "male_career = career_sims[0]\n",
    "female_career = career_sims[1]\n",
    "\n",
    "male_fam = fam_sims[0]\n",
    "female_fam = fam_sims[1]"
   ]
  },
  {
   "cell_type": "markdown",
   "metadata": {},
   "source": [
    "## t-test career"
   ]
  },
  {
   "cell_type": "code",
   "execution_count": 295,
   "metadata": {},
   "outputs": [],
   "source": [
    "from statistics import mean"
   ]
  },
  {
   "cell_type": "code",
   "execution_count": 276,
   "metadata": {},
   "outputs": [
    {
     "name": "stdout",
     "output_type": "stream",
     "text": [
      "0.5886711 0.54245496 0.18881456238306776 False 0.8853970143673152\n"
     ]
    }
   ],
   "source": [
    "from scipy.stats import ttest_ind\n",
    "t, p = ttest_ind(male_career, female_career)\n",
    "\n",
    "print(mean(male_career), mean(female_career), p/2, p/2 < 0.05, t)\n"
   ]
  },
  {
   "cell_type": "markdown",
   "metadata": {},
   "source": [
    "## t-test family"
   ]
  },
  {
   "cell_type": "code",
   "execution_count": 280,
   "metadata": {},
   "outputs": [
    {
     "name": "stdout",
     "output_type": "stream",
     "text": [
      "0.8721906 0.86063564 0.2381967060447348 False -0.7142504755770632\n"
     ]
    }
   ],
   "source": [
    "t, p = ttest_ind(female_fam, male_fam)\n",
    "\n",
    "print(mean(male_fam), mean(female_fam), p/2, p/2 < 0.05, t)\n",
    "\n"
   ]
  },
  {
   "cell_type": "code",
   "execution_count": 281,
   "metadata": {},
   "outputs": [
    {
     "name": "stdout",
     "output_type": "stream",
     "text": [
      "0.8721906 0.86063564 0.2381967060447348 False 0.7142504755770632\n"
     ]
    }
   ],
   "source": [
    "t, p = ttest_ind(male_fam, female_fam)\n",
    "\n",
    "print(mean(male_fam), mean(female_fam), p/2, p/2 < 0.05, t)\n",
    "\n",
    "\n"
   ]
  },
  {
   "cell_type": "markdown",
   "metadata": {},
   "source": [
    "# Part 2: Training subsets of corpus"
   ]
  },
  {
   "cell_type": "markdown",
   "metadata": {},
   "source": [
    "## Getting texts from the folders"
   ]
  },
  {
   "cell_type": "code",
   "execution_count": 318,
   "metadata": {},
   "outputs": [],
   "source": [
    "def text_from_folder(directory):\n",
    "    text = [] #list of all text in the whole corpus\n",
    "    for filename in os.listdir(directory): #looping over each folder in the corpus directory\n",
    "        if filename.endswith('.xhtml'): #only if it's in the xhtml format\n",
    "            with open(os.path.join(directory, filename), encoding='windows-1251', mode='r') as f: #opening\n",
    "                content = f.read() #reading\n",
    "                soup = BeautifulSoup(content) #souping the content from html file\n",
    "                data = soup.get_text() #getting the text data\n",
    "                sent_text = \" \".join([x.replace(\"`\",\"\") for x in data.split(\"\\n\")]) #all sentences joined in a string after sentences are split by \\n and each word gets cleaned from the `\n",
    "                text.append(sent_text) #appending the sentences of the files of the folder to the RNC list\n",
    "\n",
    "    text_sent = \" \".join(text) #joining all the sentences from all the files from all the folders of the corpus\n",
    "    return text_sent"
   ]
  },
  {
   "cell_type": "code",
   "execution_count": 319,
   "metadata": {},
   "outputs": [],
   "source": [
    "public_sent = text_from_folder('/Users/sashakenjeeva/Desktop/Masters/Spring 2021/Machine Learning for NLP/Report/sample_ar/TEXTS/public')\n",
    "public_clean = clean_lemm_text(public_sent)"
   ]
  },
  {
   "cell_type": "code",
   "execution_count": 297,
   "metadata": {},
   "outputs": [
    {
     "name": "stdout",
     "output_type": "stream",
     "text": [
      "20346 26614\n"
     ]
    }
   ],
   "source": [
    "print(len(public_clean), len(private_clean))"
   ]
  },
  {
   "cell_type": "code",
   "execution_count": 320,
   "metadata": {},
   "outputs": [],
   "source": [
    "private_sent = text_from_folder('/Users/sashakenjeeva/Desktop/Masters/Spring 2021/Machine Learning for NLP/Report/sample_ar/TEXTS/blogs_2013') + text_from_folder('/Users/sashakenjeeva/Desktop/Masters/Spring 2021/Machine Learning for NLP/Report/sample_ar/TEXTS/fiction')\n",
    "private_clean = clean_lemm_text(private_sent)"
   ]
  },
  {
   "cell_type": "markdown",
   "metadata": {},
   "source": [
    "## Training public + private"
   ]
  },
  {
   "cell_type": "code",
   "execution_count": 203,
   "metadata": {},
   "outputs": [],
   "source": [
    "model_pub = Word2Vec(sentences=public_clean, vector_size=200, window=30) #training model\n",
    "model_pub.save(\"word2vec_pub.model\") #saving the model\n",
    "model_pub = Word2Vec.load(\"word2vec_pub.model\") #loading the model"
   ]
  },
  {
   "cell_type": "code",
   "execution_count": 132,
   "metadata": {},
   "outputs": [],
   "source": [
    "model_priv = Word2Vec(sentences=private_clean, vector_size=200, window=30) #training model\n",
    "model_priv.save(\"word2vec_priv.model\") #saving the model\n",
    "model_priv = Word2Vec.load(\"word2vec_priv.model\") #loading the model"
   ]
  },
  {
   "cell_type": "code",
   "execution_count": 249,
   "metadata": {},
   "outputs": [],
   "source": [
    "career_sims_pub = male_female_targets(career_targets, model_pub)\n",
    "fam_sims_pub = male_female_targets(family_targets, model_pub)\n",
    "\n",
    "male_career_pub = career_sims_pub[0]\n",
    "female_career_pub = career_sims_pub[1]\n",
    "\n",
    "male_fam_pub = fam_sims_pub[0]\n",
    "female_fam_pub = fam_sims_pub[1]"
   ]
  },
  {
   "cell_type": "code",
   "execution_count": 250,
   "metadata": {},
   "outputs": [
    {
     "name": "stdout",
     "output_type": "stream",
     "text": [
      "\"Key 'офис' not present\"\n"
     ]
    }
   ],
   "source": [
    "career_sims_priv = male_female_targets(career_targets, model_priv)\n",
    "fam_sims_priv = male_female_targets(family_targets, model_priv)\n",
    "\n",
    "male_career_priv = career_sims_priv[0]\n",
    "female_career_priv = career_sims_priv[1]\n",
    "\n",
    "male_fam_priv = fam_sims_priv[0]\n",
    "female_fam_priv = fam_sims_priv[1]"
   ]
  },
  {
   "cell_type": "code",
   "execution_count": 251,
   "metadata": {},
   "outputs": [
    {
     "name": "stdout",
     "output_type": "stream",
     "text": [
      "0.9990602 0.99900645 0.3860187429034055 False\n"
     ]
    }
   ],
   "source": [
    "t, p = ttest_ind(male_career_priv, female_career_priv)\n",
    "\n",
    "print(mean(male_career_priv), mean(female_career_priv),p/2, p/2 < 0.05)"
   ]
  },
  {
   "cell_type": "code",
   "execution_count": 252,
   "metadata": {},
   "outputs": [
    {
     "name": "stdout",
     "output_type": "stream",
     "text": [
      "0.99945027 0.99939835 0.3190647695902723 False\n"
     ]
    }
   ],
   "source": [
    "t, p = ttest_ind(male_fam_priv, female_fam_priv)\n",
    "\n",
    "print(mean(male_fam_priv), mean(female_fam_priv), p/2, p/2 < 0.05)"
   ]
  },
  {
   "cell_type": "code",
   "execution_count": 253,
   "metadata": {},
   "outputs": [
    {
     "name": "stdout",
     "output_type": "stream",
     "text": [
      "0.9987115 0.9991314 0.0031950275981921746 True\n"
     ]
    }
   ],
   "source": [
    "t, p = ttest_ind(male_career_pub, female_career_pub)\n",
    "\n",
    "print(mean(male_career_pub), mean(female_career_pub), p/2, p/2 < 0.05)"
   ]
  },
  {
   "cell_type": "markdown",
   "metadata": {},
   "source": [
    "## Calculating differences for career and family, private and public"
   ]
  },
  {
   "cell_type": "code",
   "execution_count": 254,
   "metadata": {},
   "outputs": [
    {
     "data": {
      "text/plain": [
       "[-8.499622e-05,\n",
       " 0.00028955936,\n",
       " -0.0001861453,\n",
       " -9.3102455e-05,\n",
       " -0.0024679303,\n",
       " -0.0006877184,\n",
       " 0.00028306246,\n",
       " -0.0004760027,\n",
       " -0.0001899004,\n",
       " 0.00033426285,\n",
       " -8.159876e-05,\n",
       " -5.6028366e-05,\n",
       " -0.0028017163,\n",
       " -0.00048154593,\n",
       " 0.0001450777,\n",
       " -0.00071656704,\n",
       " -5.1140785e-05,\n",
       " 0.00026386976,\n",
       " -0.00030750036,\n",
       " -8.940697e-05,\n",
       " -0.0022284985,\n",
       " -0.0007647276,\n",
       " 0.00022816658,\n",
       " -0.00054204464,\n",
       " -0.00010174513,\n",
       " 0.00031113625,\n",
       " -0.00014066696,\n",
       " -1.6450882e-05,\n",
       " -0.0023688078,\n",
       " -0.00065916777,\n",
       " 0.00027126074,\n",
       " -0.00038301945,\n",
       " -9.8347664e-05,\n",
       " 0.00021201372,\n",
       " -0.00014746189,\n",
       " -7.0512295e-05,\n",
       " -0.002319038,\n",
       " -0.00059229136,\n",
       " 0.00034552813,\n",
       " -0.0003874302,\n",
       " -8.755922e-05,\n",
       " -7.1525574e-06,\n",
       " -0.00042527914,\n",
       " -0.00010704994,\n",
       " -0.0015781522,\n",
       " -0.0008929372,\n",
       " 0.0005311966,\n",
       " -0.0011210442,\n",
       " -5.042553e-05,\n",
       " 0.0003234148,\n",
       " -0.00018000603,\n",
       " -2.8073788e-05,\n",
       " -0.002355516,\n",
       " -0.00064218044,\n",
       " 0.00024843216,\n",
       " -0.0003465414,\n",
       " -0.00011527538,\n",
       " 0.00029093027,\n",
       " -3.5703182e-05,\n",
       " -4.7683716e-06,\n",
       " -0.0025588274,\n",
       " -0.00066900253,\n",
       " 0.0001950264,\n",
       " -0.0003465414]"
      ]
     },
     "execution_count": 254,
     "metadata": {},
     "output_type": "execute_result"
    }
   ],
   "source": [
    "career_diff_pub = [x-y for x, y in zip(male_career_pub, female_career_pub)]\n",
    "career_diff_pub"
   ]
  },
  {
   "cell_type": "code",
   "execution_count": 255,
   "metadata": {},
   "outputs": [
    {
     "data": {
      "text/plain": [
       "[0.0001949668,\n",
       " 5.8233738e-05,\n",
       " -3.3140182e-05,\n",
       " 0.0001655817,\n",
       " -2.6404858e-05,\n",
       " -3.516674e-05,\n",
       " 0.00017613173,\n",
       " -6.592274e-05,\n",
       " 0.00025200844,\n",
       " 6.2704086e-05,\n",
       " -0.00010848045,\n",
       " 9.3340874e-05,\n",
       " 3.582239e-05,\n",
       " -0.00013643503,\n",
       " 0.00025129318,\n",
       " -4.7683716e-05,\n",
       " 0.0002439022,\n",
       " -3.0100346e-05,\n",
       " -4.6491623e-05,\n",
       " 9.614229e-05,\n",
       " 0.000114917755,\n",
       " 5.1677227e-05,\n",
       " 3.7789345e-05,\n",
       " 1.7285347e-05,\n",
       " 0.0001783967,\n",
       " 4.1604042e-05,\n",
       " -6.991625e-05,\n",
       " 0.000182271,\n",
       " 6.93202e-05,\n",
       " -7.086992e-05,\n",
       " 0.0001347661,\n",
       " -7.861853e-05,\n",
       " 0.00025838614,\n",
       " 1.847744e-06,\n",
       " -7.671118e-05,\n",
       " 0.00013720989,\n",
       " 1.9788742e-05,\n",
       " -4.696846e-05,\n",
       " 9.75728e-05,\n",
       " -5.5491924e-05,\n",
       " 0.0002142787,\n",
       " 1.5974045e-05,\n",
       " -0.000106573105,\n",
       " 0.00018841028,\n",
       " 7.098913e-05,\n",
       " -2.4974346e-05,\n",
       " 0.00010532141,\n",
       " -2.8192997e-05,\n",
       " 0.00020134449,\n",
       " -0.00024038553,\n",
       " 1.0728836e-05,\n",
       " 0.00023543835,\n",
       " 8.5532665e-05,\n",
       " 0.00033676624,\n",
       " 0.00019097328,\n",
       " -0.00028657913]"
      ]
     },
     "execution_count": 255,
     "metadata": {},
     "output_type": "execute_result"
    }
   ],
   "source": [
    "career_diff_priv = [x-y for x, y in zip(male_career_priv, female_career_priv)]\n",
    "career_diff_priv"
   ]
  },
  {
   "cell_type": "code",
   "execution_count": 265,
   "metadata": {},
   "outputs": [
    {
     "data": {
      "text/plain": [
       "[-0.00013452768,\n",
       " 0.00031095743,\n",
       " -7.045269e-05,\n",
       " 1.0728836e-05,\n",
       " -0.0025051832,\n",
       " -0.0006942153,\n",
       " 0.0003232956,\n",
       " -0.00026857853,\n",
       " -0.00017899275,\n",
       " 0.0003182292,\n",
       " -0.00010794401,\n",
       " 3.33786e-05,\n",
       " -0.002310276,\n",
       " -0.0006733537,\n",
       " 0.00036221743,\n",
       " -0.000207901,\n",
       " -0.00014096498,\n",
       " 0.00031346083,\n",
       " -9.23872e-05,\n",
       " 2.5689602e-05,\n",
       " -0.0024131536,\n",
       " -0.00073575974,\n",
       " 0.00036799908,\n",
       " -0.00027883053,\n",
       " -0.00013750792,\n",
       " 0.00032258034,\n",
       " -0.00011277199,\n",
       " -2.527237e-05,\n",
       " -0.002439499,\n",
       " -0.00068181753,\n",
       " 0.0003169179,\n",
       " -0.0003924966,\n",
       " 8.404255e-06,\n",
       " 0.00027680397,\n",
       " 9.4890594e-05,\n",
       " 0.00010728836,\n",
       " -0.002147019,\n",
       " -0.0011420846,\n",
       " 0.00025093555,\n",
       " -0.0003273487,\n",
       " -0.0001810193,\n",
       " 0.000236094,\n",
       " -0.00016760826,\n",
       " 0.00015717745,\n",
       " -0.0018885136,\n",
       " -0.0006695986,\n",
       " 0.0005329251,\n",
       " -0.0008326173,\n",
       " -0.000115811825,\n",
       " 0.00033056736,\n",
       " -1.9073486e-05,\n",
       " -4.3988228e-05,\n",
       " -0.0020424128,\n",
       " -0.0004464388,\n",
       " 0.00032109022,\n",
       " -0.00014203787,\n",
       " -8.648634e-05,\n",
       " 0.00032293797,\n",
       " 1.835823e-05,\n",
       " 6.0260296e-05,\n",
       " -0.0026510358,\n",
       " -0.00043404102,\n",
       " 0.00031751394,\n",
       " -0.0006425977]"
      ]
     },
     "execution_count": 265,
     "metadata": {},
     "output_type": "execute_result"
    }
   ],
   "source": [
    "fam_diff_pub = [x-y for x, y in zip(male_fam_pub, female_fam_pub)]\n",
    "fam_diff_pub"
   ]
  },
  {
   "cell_type": "code",
   "execution_count": 263,
   "metadata": {
    "scrolled": false
   },
   "outputs": [
    {
     "data": {
      "text/plain": [
       "[0.0002644062,\n",
       " 4.208088e-05,\n",
       " -2.2172928e-05,\n",
       " 0.00010585785,\n",
       " -0.00012624264,\n",
       " 5.4597855e-05,\n",
       " 0.00020211935,\n",
       " -0.00010102987,\n",
       " 0.00022995472,\n",
       " 3.85046e-05,\n",
       " -1.9073486e-05,\n",
       " 0.00015819073,\n",
       " 2.3961067e-05,\n",
       " -4.3213367e-05,\n",
       " 0.00019705296,\n",
       " -8.0645084e-05,\n",
       " 0.00013434887,\n",
       " 0.00013792515,\n",
       " 4.041195e-05,\n",
       " 0.00016659498,\n",
       " -0.000119149685,\n",
       " -0.0001424551,\n",
       " 0.0002322793,\n",
       " -3.6895275e-05,\n",
       " 0.00019574165,\n",
       " 1.9073486e-05,\n",
       " 1.6748905e-05,\n",
       " 0.00010627508,\n",
       " 2.1398067e-05,\n",
       " -5.90086e-06,\n",
       " 0.0001424551,\n",
       " -6.66976e-05,\n",
       " 0.00022530556,\n",
       " -3.373623e-05,\n",
       " -6.0915947e-05,\n",
       " 0.00015044212,\n",
       " 6.0737133e-05,\n",
       " 5.429983e-05,\n",
       " 0.00012785196,\n",
       " -8.1181526e-05,\n",
       " 0.00021231174,\n",
       " 0.00010448694,\n",
       " 8.058548e-05,\n",
       " 0.00020623207,\n",
       " -9.4771385e-06,\n",
       " -0.0002065897,\n",
       " 4.285574e-05,\n",
       " -1.603365e-05,\n",
       " 0.00030475855,\n",
       " -8.106232e-06,\n",
       " -7.355213e-05,\n",
       " 0.00013178587,\n",
       " -1.001358e-05,\n",
       " -7.867813e-06,\n",
       " 9.441376e-05,\n",
       " -0.00010848045,\n",
       " 0.00025629997,\n",
       " -0.00010442734,\n",
       " -7.6293945e-05,\n",
       " 0.00019568205,\n",
       " 4.3034554e-05,\n",
       " 1.5079975e-05,\n",
       " 9.8109245e-05,\n",
       " -5.0723553e-05]"
      ]
     },
     "execution_count": 263,
     "metadata": {},
     "output_type": "execute_result"
    }
   ],
   "source": [
    "fam_diff_priv = [x-y for x, y in zip(male_fam_priv, female_fam_priv)]\n",
    "fam_diff_priv"
   ]
  },
  {
   "cell_type": "markdown",
   "metadata": {},
   "source": [
    "## t-test differences male-female in family private vs. public"
   ]
  },
  {
   "cell_type": "code",
   "execution_count": 288,
   "metadata": {
    "scrolled": true
   },
   "outputs": [
    {
     "name": "stdout",
     "output_type": "stream",
     "text": [
      "0.00005193 -0.00035688933 0.0001289791186606279 3.950692428561948\n"
     ]
    }
   ],
   "source": [
    "t, p = ttest_ind(fam_diff_priv, fam_diff_pub)\n",
    "\n",
    "print('%.08f' % mean(fam_diff_priv), mean(fam_diff_pub), p, t)"
   ]
  },
  {
   "cell_type": "markdown",
   "metadata": {},
   "source": [
    "## t-test differences male-female in career private vs. public"
   ]
  },
  {
   "cell_type": "code",
   "execution_count": 287,
   "metadata": {
    "scrolled": true
   },
   "outputs": [
    {
     "name": "stdout",
     "output_type": "stream",
     "text": [
      "0.00005381 -0.00041985326 0.00003376 4.3119469227922895\n"
     ]
    }
   ],
   "source": [
    "t, p = ttest_ind(career_diff_priv, career_diff_pub)\n",
    "\n",
    "print('%.08f' % mean(career_diff_priv), mean(career_diff_pub), '%.08f' %p, t)"
   ]
  },
  {
   "cell_type": "markdown",
   "metadata": {},
   "source": [
    "## t-test male career private vs. public"
   ]
  },
  {
   "cell_type": "code",
   "execution_count": 271,
   "metadata": {
    "scrolled": true
   },
   "outputs": [
    {
     "name": "stdout",
     "output_type": "stream",
     "text": [
      "0.9990602 0.9987115 0.05747032\n"
     ]
    }
   ],
   "source": [
    "t, p = ttest_ind(male_career_priv, male_career_pub)\n",
    "\n",
    "print(mean(male_career_priv), mean(male_career_pub), '%.08f' % p)"
   ]
  },
  {
   "cell_type": "markdown",
   "metadata": {},
   "source": [
    "## t-test female career private vs. public"
   ]
  },
  {
   "cell_type": "code",
   "execution_count": 274,
   "metadata": {},
   "outputs": [
    {
     "name": "stdout",
     "output_type": "stream",
     "text": [
      "0.99900645 0.9991314 0.4135224025513 False\n"
     ]
    }
   ],
   "source": [
    "t, p = ttest_ind(female_career_priv, female_career_pub)\n",
    "\n",
    "print(mean(female_career_priv), mean(female_career_pub), '%.013f' % p, p<0.05)"
   ]
  },
  {
   "cell_type": "markdown",
   "metadata": {},
   "source": [
    "## t-test female family private vs. public"
   ]
  },
  {
   "cell_type": "code",
   "execution_count": 286,
   "metadata": {},
   "outputs": [
    {
     "name": "stdout",
     "output_type": "stream",
     "text": [
      "0.99939835 0.9985871 0.00005873679 4.158709185885311\n"
     ]
    }
   ],
   "source": [
    "t, p = ttest_ind(female_fam_priv, female_fam_pub)\n",
    "\n",
    "print(mean(female_fam_priv), mean(female_fam_pub), '%.011f' % p, t)"
   ]
  },
  {
   "cell_type": "markdown",
   "metadata": {},
   "source": [
    "## t-test male family private vs. public"
   ]
  },
  {
   "cell_type": "code",
   "execution_count": 282,
   "metadata": {},
   "outputs": [
    {
     "name": "stdout",
     "output_type": "stream",
     "text": [
      "0.99945027 0.9982302 0.00000007 5.716142911132387\n"
     ]
    }
   ],
   "source": [
    "t, p = ttest_ind(male_fam_priv, male_fam_pub)\n",
    "\n",
    "print(mean(male_fam_priv), mean(male_fam_pub),'%.08f' % p, t)"
   ]
  }
 ],
 "metadata": {
  "kernelspec": {
   "display_name": "Python 3",
   "language": "python",
   "name": "python3"
  },
  "language_info": {
   "codemirror_mode": {
    "name": "ipython",
    "version": 3
   },
   "file_extension": ".py",
   "mimetype": "text/x-python",
   "name": "python",
   "nbconvert_exporter": "python",
   "pygments_lexer": "ipython3",
   "version": "3.8.5"
  }
 },
 "nbformat": 4,
 "nbformat_minor": 4
}
